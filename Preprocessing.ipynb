{
 "cells": [
  {
   "cell_type": "markdown",
   "id": "8590409d-ce65-437c-98cc-966a2ac4a3d0",
   "metadata": {},
   "source": [
    "## Data Preprocessing\n"
   ]
  },
  {
   "cell_type": "markdown",
   "id": "9b940766-776f-4b89-87b9-27460242ccfc",
   "metadata": {},
   "source": [
    "In this section, we shall consider the following:\n",
    "\n",
    "* **Importing Libraries**\n",
    "* **Missing Values:** How they were handled.\n",
    "* **Encoding:** Convert categorical variables to numeric.\n",
    "* **Feature Engineering:** Add new features or remove redundant ones.\n",
    "* **Scaling:** Apply normalization/standardization."
   ]
  },
  {
   "cell_type": "markdown",
   "id": "86818c30-82ca-4d45-bc51-ce7882fbd7c7",
   "metadata": {},
   "source": [
    "### Importing Libraries"
   ]
  },
  {
   "cell_type": "code",
   "execution_count": 1,
   "id": "a06deb4e-27c0-4aeb-a43b-108e34e0aef9",
   "metadata": {},
   "outputs": [],
   "source": [
    "from sklearn.model_selection import train_test_split\n",
    "from sklearn.preprocessing import StandardScaler, OneHotEncoder\n",
    "from sklearn.compose import ColumnTransformer\n",
    "from sklearn.impute import SimpleImputer\n",
    "from sklearn.pipeline import Pipeline\n"
   ]
  },
  {
   "cell_type": "markdown",
   "id": "201546b2-7801-4235-9881-517521fef862",
   "metadata": {},
   "source": [
    "### Handle Missing Values"
   ]
  },
  {
   "cell_type": "code",
   "execution_count": null,
   "id": "b8a87b88-98c6-4dc0-abfa-70fc6cc93134",
   "metadata": {},
   "outputs": [],
   "source": [
    "data_credit_card.fillna(0, inplace=True)  # Replace NaNs with 0 (modify as needed)"
   ]
  },
  {
   "cell_type": "markdown",
   "id": "d6f89352-0c7f-4f71-b13d-8679367a0229",
   "metadata": {},
   "source": [
    "### Separate Features and Target"
   ]
  },
  {
   "cell_type": "code",
   "execution_count": null,
   "id": "654e3793-173a-481e-a8b6-789ea9625ac6",
   "metadata": {},
   "outputs": [],
   "source": [
    "X = data_credit_card.drop('default.payment.next.month', axis=1)\n",
    "y = data_credit_card['default.payment.next.month']\n"
   ]
  },
  {
   "cell_type": "markdown",
   "id": "760c5510-a6dc-4f04-9aaa-a2ea7900bd4d",
   "metadata": {},
   "source": [
    "### Encode Categorical Variables"
   ]
  },
  {
   "cell_type": "code",
   "execution_count": null,
   "id": "2f442023-7dce-485e-b20b-294cf599c6d1",
   "metadata": {},
   "outputs": [],
   "source": [
    "categorical_features = ['SEX', 'EDUCATION', 'MARRIAGE']\n",
    "numerical_features = [col for col in X.columns if col not in categorical_features]\n",
    "\n",
    "preprocessor = ColumnTransformer(\n",
    "    transformers=[\n",
    "        ('num', StandardScaler(), numerical_features),\n",
    "        ('cat', OneHotEncoder(), categorical_features)\n",
    "    ]\n",
    ")"
   ]
  },
  {
   "cell_type": "markdown",
   "id": "ac5f4cd8-f173-479a-9b5e-bcba95a83c0e",
   "metadata": {},
   "source": [
    "### Split Data"
   ]
  },
  {
   "cell_type": "code",
   "execution_count": null,
   "id": "47d2db94-8f09-42f7-b7d1-27ee535eb1ee",
   "metadata": {},
   "outputs": [],
   "source": [
    "X_train, X_test, y_train, y_test = train_test_split(X, y, test_size=0.2, stratify=y, random_state=42)"
   ]
  },
  {
   "cell_type": "markdown",
   "id": "8b0fc12c-18e0-4721-9aae-e02d0913a7e5",
   "metadata": {},
   "source": [
    "### Feature Preprocessing"
   ]
  },
  {
   "cell_type": "code",
   "execution_count": null,
   "id": "9e08c5c3-bf36-44da-a2c4-bb3cbdc8606e",
   "metadata": {},
   "outputs": [],
   "source": [
    "X_train = preprocessor.fit_transform(X_train)\n",
    "X_test = preprocessor.transform(X_test)"
   ]
  },
  {
   "cell_type": "code",
   "execution_count": null,
   "id": "74712edb-0cb1-43d7-867b-1b8501cdcde4",
   "metadata": {},
   "outputs": [],
   "source": []
  },
  {
   "cell_type": "code",
   "execution_count": null,
   "id": "672a4afd-8145-4891-8812-aa54f6b140ba",
   "metadata": {},
   "outputs": [],
   "source": []
  }
 ],
 "metadata": {
  "kernelspec": {
   "display_name": "Python 3 (ipykernel)",
   "language": "python",
   "name": "python3"
  },
  "language_info": {
   "codemirror_mode": {
    "name": "ipython",
    "version": 3
   },
   "file_extension": ".py",
   "mimetype": "text/x-python",
   "name": "python",
   "nbconvert_exporter": "python",
   "pygments_lexer": "ipython3",
   "version": "3.12.7"
  }
 },
 "nbformat": 4,
 "nbformat_minor": 5
}
